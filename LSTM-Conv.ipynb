{
 "cells": [
  {
   "cell_type": "code",
   "execution_count": 2,
   "metadata": {},
   "outputs": [
    {
     "name": "stdout",
     "output_type": "stream",
     "text": [
      "[name: \"/device:CPU:0\"\n",
      "device_type: \"CPU\"\n",
      "memory_limit: 268435456\n",
      "locality {\n",
      "}\n",
      "incarnation: 3305547818233781280\n",
      "]\n"
     ]
    },
    {
     "name": "stderr",
     "output_type": "stream",
     "text": [
      "Using TensorFlow backend.\n"
     ]
    }
   ],
   "source": [
    "import tensorflow as tf\n",
    "import keras\n",
    "from tensorflow.python.client import device_lib\n",
    "\n",
    "print(device_lib.list_local_devices())\n",
    "import numpy as np\n",
    "import pandas as pd\n",
    "from collections import defaultdict\n",
    "import re\n",
    "\n",
    "\n",
    "import sys\n",
    "import os\n",
    "\n",
    "from keras.preprocessing.text import Tokenizer\n",
    "from keras.preprocessing.sequence import pad_sequences\n",
    "from keras.utils.np_utils import to_categorical\n",
    "\n",
    "from keras.layers import Embedding\n",
    "from keras.layers import Dense, Input, Flatten\n",
    "from keras.layers import Conv1D, MaxPooling1D, Embedding, Concatenate, Dropout\n",
    "from keras.models import Model\n",
    "\n",
    "MAX_SEQUENCE_LENGTH = 1000\n",
    "MAX_NB_WORDS = 200000\n",
    "EMBEDDING_DIM = 100\n",
    "VALIDATION_SPLIT = 0.2\n"
   ]
  },
  {
   "cell_type": "code",
   "execution_count": 3,
   "metadata": {},
   "outputs": [],
   "source": [
    "def clean_str(string):\n",
    "    \"\"\"\n",
    "    Cleaning of dataset\n",
    "    \"\"\"\n",
    "    string = re.sub(r\"\\\\\", \"\", string)    \n",
    "    string = re.sub(r\"\\'\", \"\", string)    \n",
    "    string = re.sub(r\"\\\"\", \"\", string)    \n",
    "    return string.strip().lower()\n"
   ]
  },
  {
   "cell_type": "code",
   "execution_count": 4,
   "metadata": {},
   "outputs": [],
   "source": [
    "data_train = pd.read_csv('C:\\\\Users\\\\91998\\\\Downloads\\\\FInal Code\\\\train.csv')\n"
   ]
  },
  {
   "cell_type": "code",
   "execution_count": 5,
   "metadata": {},
   "outputs": [],
   "source": [
    "# Input Data preprocessing\n",
    "# data_train = pd.read_csv('C:\\\\Users\\\\Lenovo\\\\Desktop\\\\AI Project\\\\train.csv')\n",
    "texts = []\n",
    "labels = []\n",
    "\n",
    "for i in range(data_train.text.shape[0]):\n",
    "    text1 = data_train.title[i]\n",
    "    text2 = data_train.text[i]\n",
    "    text = str(text1) +\"\"+ str(text2)\n",
    "    texts.append(text)\n",
    "    labels.append(data_train.label[i])\n",
    "#Splits sentences into words\n",
    "tokenizer = Tokenizer(num_words=MAX_NB_WORDS)\n",
    "\n",
    "#Gives the index for each word in sentences\n",
    "tokenizer.fit_on_texts(texts)\n",
    "\n",
    "#\n",
    "sequences = tokenizer.texts_to_sequences(texts)\n",
    "\n",
    "word_index = tokenizer.word_index\n",
    "#print('Found %s unique tokens.' % len(word_index))"
   ]
  },
  {
   "cell_type": "code",
   "execution_count": 6,
   "metadata": {},
   "outputs": [
    {
     "name": "stdout",
     "output_type": "stream",
     "text": [
      "Shape of data tensor: (20800, 1000)\n",
      "Shape of label tensor: (20800, 2)\n"
     ]
    }
   ],
   "source": [
    "# Pad input sequences\n",
    "data = pad_sequences(sequences, maxlen=MAX_SEQUENCE_LENGTH)\n",
    "labels = to_categorical(np.asarray(labels),num_classes = 2)\n",
    "print('Shape of data tensor:', data.shape)\n",
    "print('Shape of label tensor:', labels.shape)"
   ]
  },
  {
   "cell_type": "code",
   "execution_count": 7,
   "metadata": {},
   "outputs": [
    {
     "name": "stdout",
     "output_type": "stream",
     "text": [
      "Size of train, validation, test: 16640 2080 2080\n",
      "real & fake news in train,valt,test:\n",
      "[8298. 8342.]\n",
      "[1058. 1022.]\n",
      "[1031. 1049.]\n"
     ]
    }
   ],
   "source": [
    "# Train test validation Split\n",
    "from sklearn.model_selection import train_test_split\n",
    "\n",
    "indices = np.arange(data.shape[0])\n",
    "np.random.shuffle(indices)\n",
    "data = data[indices]\n",
    "labels = labels[indices]\n",
    "x_train, x_test, y_train, y_test = train_test_split( data, labels, test_size=0.20, random_state=42)\n",
    "x_test, x_val, y_test, y_val = train_test_split( x_test, y_test, test_size=0.50, random_state=42)\n",
    "print('Size of train, validation, test:', len(y_train), len(y_val), len(y_test))\n",
    "\n",
    "print('real & fake news in train,valt,test:')\n",
    "print(y_train.sum(axis=0))\n",
    "print(y_val.sum(axis=0))\n",
    "print(y_test.sum(axis=0))"
   ]
  },
  {
   "cell_type": "code",
   "execution_count": 8,
   "metadata": {},
   "outputs": [],
   "source": [
    "from keras.models import Sequential\n",
    "from keras.layers.convolutional import Conv3D\n",
    "from keras.layers.convolutional_recurrent import ConvLSTM2D\n",
    "from keras.layers.normalization import BatchNormalization\n",
    "import numpy as np\n",
    "from matplotlib import pyplot as plt\n",
    "from keras.layers import Dense, Embedding, LSTM, GRU\n",
    "\n",
    "%matplotlib inline"
   ]
  },
  {
   "cell_type": "code",
   "execution_count": 12,
   "metadata": {},
   "outputs": [
    {
     "name": "stdout",
     "output_type": "stream",
     "text": [
      "Total 400000 word vectors in Glove.\n"
     ]
    }
   ],
   "source": [
    "#Using Pre-trained word embeddings\n",
    "GLOVE_DIR = \"C:\\\\Users\\\\91998\\\\Downloads\\\\FInal Code\\\\\" \n",
    "embeddings_index = {}\n",
    "f = open(os.path.join(GLOVE_DIR, 'glove.6B.100d.txt'), encoding=\"utf8\")\n",
    "for line in f:\n",
    "    values = line.split()\n",
    "    #print(values[1:])\n",
    "    word = values[0]\n",
    "    coefs = np.asarray(values[1:], dtype='float32')\n",
    "    embeddings_index[word] = coefs\n",
    "f.close()\n",
    "\n",
    "print('Total %s word vectors in Glove.' % len(embeddings_index))\n",
    "\n",
    "embedding_matrix = np.random.random((len(word_index) + 1, EMBEDDING_DIM))\n",
    "for word, i in word_index.items():\n",
    "    embedding_vector = embeddings_index.get(word)\n",
    "    if embedding_vector is not None:\n",
    "        # words not found in embedding index will be all-zeros.\n",
    "        embedding_matrix[i] = embedding_vector\n",
    "        \n",
    "embedding_layer = Embedding(len(word_index) + 1,\n",
    "                            EMBEDDING_DIM,\n",
    "                            weights=[embedding_matrix],\n",
    "                            input_length=MAX_SEQUENCE_LENGTH)"
   ]
  },
  {
   "cell_type": "code",
   "execution_count": 13,
   "metadata": {},
   "outputs": [
    {
     "name": "stderr",
     "output_type": "stream",
     "text": [
      "WARNING: Logging before flag parsing goes to stderr.\n",
      "W0122 19:53:20.376424  7604 deprecation_wrapper.py:119] From c:\\users\\91998\\appdata\\local\\programs\\python\\python37\\lib\\site-packages\\keras\\backend\\tensorflow_backend.py:4070: The name tf.nn.max_pool is deprecated. Please use tf.nn.max_pool2d instead.\n",
      "\n"
     ]
    },
    {
     "name": "stdout",
     "output_type": "stream",
     "text": [
      "Model: \"sequential_1\"\n",
      "_________________________________________________________________\n",
      "Layer (type)                 Output Shape              Param #   \n",
      "=================================================================\n",
      "embedding_2 (Embedding)      (None, 1000, 100)         25187700  \n",
      "_________________________________________________________________\n",
      "dropout_1 (Dropout)          (None, 1000, 100)         0         \n",
      "_________________________________________________________________\n",
      "conv1d_1 (Conv1D)            (None, 1000, 32)          16032     \n",
      "_________________________________________________________________\n",
      "max_pooling1d_1 (MaxPooling1 (None, 500, 32)           0         \n",
      "_________________________________________________________________\n",
      "conv1d_2 (Conv1D)            (None, 500, 64)           6208      \n",
      "_________________________________________________________________\n",
      "max_pooling1d_2 (MaxPooling1 (None, 250, 64)           0         \n",
      "_________________________________________________________________\n",
      "lstm_1 (LSTM)                (None, 100)               66000     \n",
      "_________________________________________________________________\n",
      "batch_normalization_1 (Batch (None, 100)               400       \n",
      "_________________________________________________________________\n",
      "dense_1 (Dense)              (None, 256)               25856     \n",
      "_________________________________________________________________\n",
      "dense_2 (Dense)              (None, 128)               32896     \n",
      "_________________________________________________________________\n",
      "dense_3 (Dense)              (None, 64)                8256      \n",
      "_________________________________________________________________\n",
      "dense_4 (Dense)              (None, 2)                 130       \n",
      "=================================================================\n",
      "Total params: 25,343,478\n",
      "Trainable params: 25,343,278\n",
      "Non-trainable params: 200\n",
      "_________________________________________________________________\n",
      "None\n"
     ]
    },
    {
     "name": "stderr",
     "output_type": "stream",
     "text": [
      "W0122 19:53:23.351107  7604 deprecation.py:323] From c:\\users\\91998\\appdata\\local\\programs\\python\\python37\\lib\\site-packages\\tensorflow\\python\\ops\\math_grad.py:1250: add_dispatch_support.<locals>.wrapper (from tensorflow.python.ops.array_ops) is deprecated and will be removed in a future version.\n",
      "Instructions for updating:\n",
      "Use tf.where in 2.0, which has the same broadcast rule as np.where\n",
      "W0122 19:53:27.767991  7604 deprecation_wrapper.py:119] From c:\\users\\91998\\appdata\\local\\programs\\python\\python37\\lib\\site-packages\\keras\\backend\\tensorflow_backend.py:422: The name tf.global_variables is deprecated. Please use tf.compat.v1.global_variables instead.\n",
      "\n"
     ]
    },
    {
     "name": "stdout",
     "output_type": "stream",
     "text": [
      "Epoch 1/10\n",
      "16640/16640 [==============================] - 362s 22ms/step - loss: 0.4023 - accuracy: 0.8007\n",
      "Epoch 2/10\n",
      "16640/16640 [==============================] - 8264s 497ms/step - loss: 0.1979 - accuracy: 0.9196\n",
      "Epoch 3/10\n",
      "16640/16640 [==============================] - 270s 16ms/step - loss: 0.1049 - accuracy: 0.9606\n",
      "Epoch 4/10\n",
      "16640/16640 [==============================] - 265s 16ms/step - loss: 0.0493 - accuracy: 0.9829\n",
      "Epoch 5/10\n",
      "16640/16640 [==============================] - 268s 16ms/step - loss: 0.0268 - accuracy: 0.9897\n",
      "Epoch 6/10\n",
      "16640/16640 [==============================] - 253s 15ms/step - loss: 0.0177 - accuracy: 0.9939\n",
      "Epoch 7/10\n",
      "16640/16640 [==============================] - 242s 15ms/step - loss: 0.0139 - accuracy: 0.9952\n",
      "Epoch 8/10\n",
      "16640/16640 [==============================] - 259s 16ms/step - loss: 0.0082 - accuracy: 0.9971\n",
      "Epoch 9/10\n",
      "16640/16640 [==============================] - 249s 15ms/step - loss: 0.0076 - accuracy: 0.9975\n",
      "Epoch 10/10\n",
      "16640/16640 [==============================] - 236s 14ms/step - loss: 0.0063 - accuracy: 0.9978\n"
     ]
    }
   ],
   "source": [
    "embedding_vecor_length = 32\n",
    "modell = Sequential()\n",
    "modell.add(embedding_layer)\n",
    "modell.add(Dropout(0.2))\n",
    "modell.add(Conv1D(filters=32, kernel_size=5, padding='same', activation='relu'))\n",
    "modell.add(MaxPooling1D(pool_size=2))\n",
    "modell.add(Conv1D(filters=64, kernel_size=3, padding='same', activation='relu'))\n",
    "modell.add(MaxPooling1D(pool_size=2))\n",
    "modell.add(LSTM(100, dropout=0.2, recurrent_dropout=0.2))\n",
    "modell.add(BatchNormalization())\n",
    "modell.add(Dense(256, activation='relu'))\n",
    "modell.add(Dense(128, activation='relu'))\n",
    "modell.add(Dense(64, activation='relu'))\n",
    "modell.add(Dense(2, activation='softmax'))\n",
    "modell.compile(loss='binary_crossentropy', optimizer='adam', metrics=['accuracy'])\n",
    "print(modell.summary())\n",
    "modell.fit(x_train, y_train, epochs=10, batch_size=64)\n",
    "\n",
    "modell.save('lstm.h5')\n"
   ]
  },
  {
   "cell_type": "code",
   "execution_count": 39,
   "metadata": {},
   "outputs": [
    {
     "name": "stdout",
     "output_type": "stream",
     "text": [
      "Model: \"sequential_13\"\n",
      "_________________________________________________________________\n",
      "Layer (type)                 Output Shape              Param #   \n",
      "=================================================================\n",
      "embedding_2 (Embedding)      (None, 1000, 100)         25187700  \n",
      "_________________________________________________________________\n",
      "dropout_13 (Dropout)         (None, 1000, 100)         0         \n",
      "_________________________________________________________________\n",
      "conv1d_19 (Conv1D)           (None, 1000, 64)          19264     \n",
      "_________________________________________________________________\n",
      "max_pooling1d_19 (MaxPooling (None, 500, 64)           0         \n",
      "_________________________________________________________________\n",
      "lstm_13 (LSTM)               (None, 64)                33024     \n",
      "_________________________________________________________________\n",
      "batch_normalization_13 (Batc (None, 64)                256       \n",
      "_________________________________________________________________\n",
      "dense_34 (Dense)             (None, 32)                2080      \n",
      "_________________________________________________________________\n",
      "dense_35 (Dense)             (None, 2)                 66        \n",
      "=================================================================\n",
      "Total params: 25,242,390\n",
      "Trainable params: 25,242,262\n",
      "Non-trainable params: 128\n",
      "_________________________________________________________________\n",
      "None\n",
      "Train on 16640 samples, validate on 2080 samples\n",
      "Epoch 1/3\n",
      "16640/16640 [==============================] - 353s 21ms/step - loss: 0.2183 - accuracy: 0.9035 - val_loss: 0.2805 - val_accuracy: 0.8913\n",
      "Epoch 2/3\n",
      "16640/16640 [==============================] - 346s 21ms/step - loss: 0.0367 - accuracy: 0.9876 - val_loss: 0.2520 - val_accuracy: 0.9168\n",
      "Epoch 3/3\n",
      "16640/16640 [==============================] - 336s 20ms/step - loss: 0.0213 - accuracy: 0.9921 - val_loss: 0.2556 - val_accuracy: 0.9332\n"
     ]
    }
   ],
   "source": [
    "# updated LSTM\n",
    "embedding_vecor_length = 32\n",
    "modell = Sequential()\n",
    "modell.add(embedding_layer)\n",
    "modell.add(Dropout(0.4))\n",
    "modell.add(Conv1D(filters=64, kernel_size=3, padding='same', activation='relu'))\n",
    "modell.add(MaxPooling1D(pool_size=2))\n",
    "# modell.add(Conv1D(filters=64, kernel_size=3, padding='same', activation='relu'))\n",
    "# modell.add(MaxPooling1D(pool_size=2))\n",
    "modell.add(LSTM(64, dropout=0.2, recurrent_dropout=0.2))\n",
    "modell.add(BatchNormalization())\n",
    "# modell.add(Dense(128, activation='relu'))\n",
    "# modell.add(Dense(64, activation='relu'))\n",
    "modell.add(Dense(32, activation='relu'))\n",
    "modell.add(Dense(2, activation='softmax'))\n",
    "modell.compile(loss='binary_crossentropy', optimizer='adam', metrics=['accuracy'])\n",
    "print(modell.summary())\n",
    "# history = modell.fit(x_train, y_train, epochs=3, batch_size=64)\n",
    "history = modell.fit(x_train, y_train, validation_data=(x_val, y_val),\n",
    "          epochs=3, batch_size=128)\n",
    "modell.save('lstm.h5')\n"
   ]
  },
  {
   "cell_type": "code",
   "execution_count": 35,
   "metadata": {},
   "outputs": [
    {
     "name": "stdout",
     "output_type": "stream",
     "text": [
      "dict_keys(['val_loss', 'val_accuracy', 'loss', 'accuracy'])\n"
     ]
    },
    {
     "data": {
      "image/png": "[encoded data removed]",
      "text/plain": [
       "<Figure size 432x288 with 1 Axes>"
      ]
     },
     "metadata": {
      "needs_background": "light"
     },
     "output_type": "display_data"
    },
    {
     "data": {
      "image/png": "[encoded data removed]",
      "text/plain": [
       "<Figure size 432x288 with 1 Axes>"
      ]
     },
     "metadata": {
      "needs_background": "light"
     },
     "output_type": "display_data"
    }
   ],
   "source": [
    "import matplotlib.pyplot as plt\n",
    "%matplotlib inline \n",
    "# list all data in history\n",
    "print(history.history.keys())\n",
    "# summarize history for accuracy\n",
    "plt.plot(history.history['accuracy'])\n",
    "plt.plot(history.history['val_accuracy'])\n",
    "plt.title('model accuracy')\n",
    "plt.ylabel('accuracy')\n",
    "plt.xlabel('epoch')\n",
    "plt.legend(['train', 'test'], loc='upper left')\n",
    "plt.show()\n",
    "# summarize history for loss\n",
    "plt.plot(history.history['loss'])\n",
    "plt.plot(history.history['val_loss'])\n",
    "plt.title('model loss')\n",
    "plt.ylabel('loss')\n",
    "plt.xlabel('epoch')\n",
    "plt.legend(['train', 'test'], loc='upper left')\n",
    "plt.show()"
   ]
  },
  {
   "cell_type": "code",
   "execution_count": null,
   "metadata": {},
   "outputs": [],
   "source": []
  },
  {
   "cell_type": "code",
   "execution_count": 11,
   "metadata": {},
   "outputs": [
    {
     "name": "stdout",
     "output_type": "stream",
     "text": [
      "Correct predictions: 2008.0\n",
      "Total number of test examples: 2080\n",
      "Accuracy of model1:  0.9653846153846154\n"
     ]
    },
    {
     "data": {
      "text/plain": [
       "<matplotlib.axes._subplots.AxesSubplot at 0x128e4557a58>"
      ]
     },
     "execution_count": 11,
     "metadata": {},
     "output_type": "execute_result"
    },
    {
     "data": {
      "image/png": "[encoded data removed]",
      "text/plain": [
       "<Figure size 432x288 with 2 Axes>"
      ]
     },
     "metadata": {},
     "output_type": "display_data"
    }
   ],
   "source": [
    "import matplotlib.pyplot as plt\n",
    "import seaborn as sns\n",
    "test_preds = modell.predict(x_test)\n",
    "test_preds = np.round(test_preds)\n",
    "correct_predictions = float(sum(test_preds == y_test)[0])\n",
    "print(\"Correct predictions:\", correct_predictions)\n",
    "print(\"Total number of test examples:\", len(y_test))\n",
    "print(\"Accuracy of model1: \", correct_predictions/float(len(y_test)))\n",
    "\n",
    "# Creating the Confusion Matrix\n",
    "from sklearn.metrics import confusion_matrix\n",
    "x_pred = modell.predict(x_test)\n",
    "x_pred = np.round(x_pred)\n",
    "x_pred = x_pred.argmax(1)\n",
    "y_test_s = y_test.argmax(1)\n",
    "cm = confusion_matrix(y_test_s, x_pred)\n",
    "# plt.matshow(cm, cmap=plt.cm.binary, interpolation='nearest')\n",
    "# plt.title('Confusion matrix - model1')\n",
    "# plt.colorbar()\n",
    "# plt.ylabel('expected label')\n",
    "# plt.xlabel('predicted label')\n",
    "# plt.show()\n",
    "sns.set(font_scale=1.4)#for label size\n",
    "sns.heatmap(cm,annot=True,annot_kws={\"size\": 16},fmt='1f')# font size"
   ]
  },
  {
   "cell_type": "code",
   "execution_count": null,
   "metadata": {},
   "outputs": [],
   "source": []
  }
 ],
 "metadata": {
  "kernelspec": {
   "display_name": "Python 3",
   "language": "python",
   "name": "python3"
  },
  "language_info": {
   "codemirror_mode": {
    "name": "ipython",
    "version": 3
   },
   "file_extension": ".py",
   "mimetype": "text/x-python",
   "name": "python",
   "nbconvert_exporter": "python",
   "pygments_lexer": "ipython3",
   "version": "3.7.0"
  }
 },
 "nbformat": 4,
 "nbformat_minor": 2
}
