{
 "cells": [
  {
   "cell_type": "code",
   "execution_count": 1,
   "metadata": {
    "colab": {
     "base_uri": "https://localhost:8080/",
     "height": 263
    },
    "colab_type": "code",
    "executionInfo": {
     "elapsed": 1781,
     "status": "ok",
     "timestamp": 1578392724221,
     "user": {
      "displayName": "nikhitha goli 20186105",
      "photoUrl": "",
      "userId": "01481564974937386714"
     },
     "user_tz": -330
    },
    "id": "-Z0Qt8rbg04i",
    "outputId": "5323bf22-921c-4031-9f8f-feb6440dcd20"
   },
   "outputs": [
    {
     "name": "stderr",
     "output_type": "stream",
     "text": [
      "Using TensorFlow backend.\n"
     ]
    },
    {
     "name": "stdout",
     "output_type": "stream",
     "text": [
      "[name: \"/device:CPU:0\"\n",
      "device_type: \"CPU\"\n",
      "memory_limit: 268435456\n",
      "locality {\n",
      "}\n",
      "incarnation: 16765460960785619252\n",
      "]\n"
     ]
    }
   ],
   "source": [
    "import keras\n",
    "\n",
    "from tensorflow.python.client import device_lib\n",
    "\n",
    "print(device_lib.list_local_devices())\n",
    "\n",
    "import numpy as np\n",
    "import pandas as pd\n",
    "from collections import defaultdict\n",
    "import re\n",
    "\n",
    "from bs4 import BeautifulSoup\n",
    "\n",
    "import sys\n",
    "import os\n",
    "\n",
    "from keras.preprocessing.text import Tokenizer\n",
    "from keras.preprocessing.sequence import pad_sequences\n",
    "from keras.utils.np_utils import to_categorical\n",
    "\n",
    "from keras.layers import Embedding\n",
    "from keras.layers import Dense, Input, Flatten\n",
    "from keras.layers import Conv1D, MaxPooling1D, Embedding, Concatenate, Dropout\n",
    "from keras.models import Model"
   ]
  },
  {
   "cell_type": "code",
   "execution_count": 2,
   "metadata": {
    "colab": {
     "base_uri": "https://localhost:8080/",
     "height": 34
    },
    "colab_type": "code",
    "executionInfo": {
     "elapsed": 9347,
     "status": "ok",
     "timestamp": 1578392572626,
     "user": {
      "displayName": "nikhitha goli 20186105",
      "photoUrl": "",
      "userId": "01481564974937386714"
     },
     "user_tz": -330
    },
    "id": "J8Al3S0vhwiJ",
    "outputId": "8e479592-6cb5-4483-8a15-23395465a69a"
   },
   "outputs": [
    {
     "data": {
      "text/plain": [
       "array([1, 0], dtype=int64)"
      ]
     },
     "execution_count": 2,
     "metadata": {},
     "output_type": "execute_result"
    }
   ],
   "source": [
    "from ast import literal_eval\n",
    "# data_train = pd.read_pickle('drive/My Drive/Colab Notebooks/fakenews-master/data/news_proc_12_3_19.pickle')\n",
    "data_train = pd.read_csv('C:\\\\Users\\\\91998\\\\Downloads\\\\FInal Code\\\\train.csv')\n",
    "data_train = data_train[['label', 'text', 'title']]\n",
    "data_train['label'].unique()"
   ]
  },
  {
   "cell_type": "code",
   "execution_count": 3,
   "metadata": {
    "colab": {},
    "colab_type": "code",
    "id": "oYo-AxvUhwsp"
   },
   "outputs": [],
   "source": [
    "MAX_SEQUENCE_LENGTH = 1000\n",
    "MAX_NB_WORDS = 200000\n",
    "EMBEDDING_DIM = 100\n",
    "VALIDATION_SPLIT = 0.2"
   ]
  },
  {
   "cell_type": "code",
   "execution_count": 7,
   "metadata": {
    "colab": {},
    "colab_type": "code",
    "id": "6JokS4n-iCIf"
   },
   "outputs": [],
   "source": [
    "def clean_str(string):\n",
    "    \"\"\"\n",
    "    Cleaning of dataset\n",
    "    \"\"\"\n",
    "    string = re.sub(r\"\\\\\", \"\", string)    \n",
    "    string = re.sub(r\"\\'\", \"\", string)    \n",
    "    string = re.sub(r\"\\\"\", \"\", string)    \n",
    "    return string.strip().lower()"
   ]
  },
  {
   "cell_type": "code",
   "execution_count": 6,
   "metadata": {
    "colab": {
     "base_uri": "https://localhost:8080/",
     "height": 34
    },
    "colab_type": "code",
    "executionInfo": {
     "elapsed": 8157,
     "status": "ok",
     "timestamp": 1578392650406,
     "user": {
      "displayName": "nikhitha goli 20186105",
      "photoUrl": "",
      "userId": "01481564974937386714"
     },
     "user_tz": -330
    },
    "id": "AWrcmqBjiENc",
    "outputId": "7fea375f-e0e4-4b19-9c74-ef18a30d9000"
   },
   "outputs": [
    {
     "data": {
      "text/plain": [
       "array([1, 0], dtype=int64)"
      ]
     },
     "execution_count": 6,
     "metadata": {},
     "output_type": "execute_result"
    }
   ],
   "source": [
    "from ast import literal_eval\n",
    "data_train = pd.read_csv('C:\\\\Users\\\\91998\\\\Downloads\\\\FInal Code\\\\train.csv')\n",
    "data_train = data_train[['label', 'text', 'title']]\n",
    "data_train['label'].unique()"
   ]
  },
  {
   "cell_type": "code",
   "execution_count": 8,
   "metadata": {
    "colab": {},
    "colab_type": "code",
    "id": "J_JD-NVBiGnn"
   },
   "outputs": [],
   "source": [
    "data_train['label'] = data_train['label'].replace('fake',1)\n",
    "data_train['label'] = data_train['label'].replace('real',0)"
   ]
  },
  {
   "cell_type": "code",
   "execution_count": 9,
   "metadata": {
    "colab": {},
    "colab_type": "code",
    "id": "u3v26rikiLra"
   },
   "outputs": [],
   "source": [
    "texts = []\n",
    "labels = []\n",
    "\n",
    "for i in range(data_train.text.shape[0]):\n",
    "    text1 = data_train.title[i]\n",
    "    text2 = data_train.text[i]\n",
    "    text = str(text1) +\"\"+ str(text2)\n",
    "    texts.append(text)\n",
    "    labels.append(data_train.label[i])"
   ]
  },
  {
   "cell_type": "code",
   "execution_count": 0,
   "metadata": {
    "colab": {},
    "colab_type": "code",
    "id": "9h0eJsXWiWB5"
   },
   "outputs": [],
   "source": []
  },
  {
   "cell_type": "code",
   "execution_count": 10,
   "metadata": {
    "colab": {
     "base_uri": "https://localhost:8080/",
     "height": 34
    },
    "colab_type": "code",
    "executionInfo": {
     "elapsed": 100899,
     "status": "ok",
     "timestamp": 1578392829769,
     "user": {
      "displayName": "nikhitha goli 20186105",
      "photoUrl": "",
      "userId": "01481564974937386714"
     },
     "user_tz": -330
    },
    "id": "MjVgZoAkiM9r",
    "outputId": "6f32c9ba-2078-4d52-c5d7-934f921603c4"
   },
   "outputs": [
    {
     "name": "stdout",
     "output_type": "stream",
     "text": [
      "Found 251876 unique tokens.\n"
     ]
    }
   ],
   "source": [
    "tokenizer = Tokenizer(num_words=MAX_NB_WORDS)\n",
    "tokenizer.fit_on_texts(texts)\n",
    "sequences = tokenizer.texts_to_sequences(texts)\n",
    "\n",
    "word_index = tokenizer.word_index\n",
    "print('Found %s unique tokens.' % len(word_index))"
   ]
  },
  {
   "cell_type": "code",
   "execution_count": 11,
   "metadata": {
    "colab": {
     "base_uri": "https://localhost:8080/",
     "height": 52
    },
    "colab_type": "code",
    "executionInfo": {
     "elapsed": 2906,
     "status": "ok",
     "timestamp": 1578393068188,
     "user": {
      "displayName": "nikhitha goli 20186105",
      "photoUrl": "",
      "userId": "01481564974937386714"
     },
     "user_tz": -330
    },
    "id": "BlqY4xUVibwY",
    "outputId": "9bb7dfa0-1efd-4ea6-ba48-9434f5dddb07"
   },
   "outputs": [
    {
     "name": "stdout",
     "output_type": "stream",
     "text": [
      "Shape of data tensor: (20800, 1000)\n",
      "Shape of label tensor: (20800, 2)\n"
     ]
    }
   ],
   "source": [
    "# Pad input sequences\n",
    "data = pad_sequences(sequences, maxlen=MAX_SEQUENCE_LENGTH)\n",
    "labels = to_categorical(np.asarray(labels),num_classes = 2)\n",
    "print('Shape of data tensor:', data.shape)\n",
    "print('Shape of label tensor:', labels.shape)\n"
   ]
  },
  {
   "cell_type": "code",
   "execution_count": 12,
   "metadata": {
    "colab": {
     "base_uri": "https://localhost:8080/",
     "height": 87
    },
    "colab_type": "code",
    "executionInfo": {
     "elapsed": 1520,
     "status": "ok",
     "timestamp": 1578393082884,
     "user": {
      "displayName": "nikhitha goli 20186105",
      "photoUrl": "",
      "userId": "01481564974937386714"
     },
     "user_tz": -330
    },
    "id": "q1vF6UoNjt1G",
    "outputId": "1f4924d3-f1b4-42b8-a526-d78052e67eac"
   },
   "outputs": [
    {
     "name": "stdout",
     "output_type": "stream",
     "text": [
      "<class 'numpy.ndarray'>\n",
      "[    0     1     2 ... 20797 20798 20799]\n",
      "<class 'numpy.ndarray'>\n",
      "Size of train, validation, test: 16640 10400 10400\n"
     ]
    }
   ],
   "source": [
    "# Train test validation Split\n",
    "from sklearn.model_selection import train_test_split\n",
    "print(type(data))\n",
    "indices = np.arange(len(data))\n",
    "print(indices)\n",
    "np.random.shuffle(indices)\n",
    "l = []\n",
    "d = []\n",
    "for each in indices:\n",
    "  d.append(data[each])\n",
    "  l.append(labels[each])\n",
    "data =np.asarray(d)\n",
    "labels = np.asarray(l)\n",
    "print(type(data[0]))\n",
    "x_train, x_test, y_train, y_test = train_test_split( data, labels, test_size=0.20, random_state=42)\n",
    "x_test, x_val, y_test, y_val = train_test_split( data, labels, test_size=0.50, random_state=42)\n",
    "print('Size of train, validation, test:', len(y_train), len(y_val), len(y_test))\n",
    "\n",
    "\n"
   ]
  },
  {
   "cell_type": "code",
   "execution_count": 13,
   "metadata": {
    "colab": {
     "base_uri": "https://localhost:8080/",
     "height": 34
    },
    "colab_type": "code",
    "executionInfo": {
     "elapsed": 13377,
     "status": "ok",
     "timestamp": 1578393106968,
     "user": {
      "displayName": "nikhitha goli 20186105",
      "photoUrl": "",
      "userId": "01481564974937386714"
     },
     "user_tz": -330
    },
    "id": "ftxxWwaUjyNI",
    "outputId": "1ccba923-8138-444a-9fb4-91e617103891"
   },
   "outputs": [
    {
     "name": "stdout",
     "output_type": "stream",
     "text": [
      "Found 400000 word vectors.\n"
     ]
    }
   ],
   "source": [
    "GLOVE_DIR = \"C:\\\\Users\\\\91998\\\\Downloads\\\\FInal Code\\\\\"\n",
    "embeddings_index = {}\n",
    "f = open(os.path.join(GLOVE_DIR, 'glove.6B.100d.txt'), encoding=\"utf8\")\n",
    "for line in f:\n",
    "    values = line.split()\n",
    "    word = values[0]\n",
    "    coefs = np.asarray(values[1:], dtype='float32')\n",
    "    embeddings_index[word] = coefs\n",
    "f.close()\n",
    "\n",
    "print('Found %s word vectors.' % len(embeddings_index))"
   ]
  },
  {
   "cell_type": "code",
   "execution_count": 17,
   "metadata": {
    "colab": {},
    "colab_type": "code",
    "id": "vZ5LY_vJj1HD"
   },
   "outputs": [],
   "source": [
    "embedding_matrix = np.random.random((len(word_index) + 1, EMBEDDING_DIM))\n",
    "for word, i in word_index.items():\n",
    "    embedding_vector = embeddings_index.get(word)\n",
    "    if embedding_vector is not None:\n",
    "        # words not found in embedding index will be all-zeros.\n",
    "        embedding_matrix[i] = embedding_vector"
   ]
  },
  {
   "cell_type": "code",
   "execution_count": 18,
   "metadata": {
    "colab": {},
    "colab_type": "code",
    "id": "QsC3EKSkl9gS"
   },
   "outputs": [],
   "source": [
    "params_lstm = {\n",
    "    'lr': 0.2639850638741692,\n",
    "    'momentum': 0.08255873365806747,\n",
    "    'dropout': 0.10591561319817788,\n",
    "    'dense1': 73,\n",
    "    'dense2': 24,\n",
    "    'lstmTitle': 46,\n",
    "    'lstmContent': 231\n",
    "}"
   ]
  },
  {
   "cell_type": "code",
   "execution_count": 19,
   "metadata": {
    "colab": {
     "base_uri": "https://localhost:8080/",
     "height": 439
    },
    "colab_type": "code",
    "executionInfo": {
     "elapsed": 2813,
     "status": "ok",
     "timestamp": 1578395755102,
     "user": {
      "displayName": "nikhitha goli 20186105",
      "photoUrl": "",
      "userId": "01481564974937386714"
     },
     "user_tz": -330
    },
    "id": "cZyANcsKlDMC",
    "outputId": "cfbc2b25-2375-49b4-c320-4961c8acb15c"
   },
   "outputs": [
    {
     "name": "stdout",
     "output_type": "stream",
     "text": [
      "Model: \"model_1\"\n",
      "_________________________________________________________________\n",
      "Layer (type)                 Output Shape              Param #   \n",
      "=================================================================\n",
      "input (InputLayer)           [(None, 1000)]            0         \n",
      "_________________________________________________________________\n",
      "embedding_1 (Embedding)      (None, 1000, 100)         25187700  \n",
      "_________________________________________________________________\n",
      "bidirectional_1 (Bidirection (None, 92)                54096     \n",
      "_________________________________________________________________\n",
      "dense_3 (Dense)              (None, 73)                6789      \n",
      "_________________________________________________________________\n",
      "dropout_2 (Dropout)          (None, 73)                0         \n",
      "_________________________________________________________________\n",
      "dense_4 (Dense)              (None, 24)                1776      \n",
      "_________________________________________________________________\n",
      "dropout_3 (Dropout)          (None, 24)                0         \n",
      "_________________________________________________________________\n",
      "dense_5 (Dense)              (None, 2)                 50        \n",
      "=================================================================\n",
      "Total params: 25,250,411\n",
      "Trainable params: 62,711\n",
      "Non-trainable params: 25,187,700\n",
      "_________________________________________________________________\n"
     ]
    }
   ],
   "source": [
    "from tensorflow import keras as k\n",
    "import tensorflow as tf\n",
    "#input_title\n",
    "input = k.layers.Input(shape=(MAX_SEQUENCE_LENGTH,), name='input')\n",
    "inp = k.layers.Embedding(output_dim=EMBEDDING_DIM, input_dim=251877, \n",
    "                         weights=[embedding_matrix], trainable=False)(input)\n",
    "x = k.layers.Bidirectional(k.layers.LSTM(params_lstm['lstmTitle']))(inp)\n",
    "#CudnnLSTM\n",
    "#x = k.layers.Bidirectional(k.layers.CuDNNLSTM(params_lstm['lstmTitle']))(inp)\n",
    "\n",
    "# #input_content\n",
    "# content_input = k.layers.Input(shape=(len_content,), name='content_input')\n",
    "# inp2 = k.layers.Embedding(output_dim=300, input_dim=50000, \n",
    "#                          weights=[embed_mat], trainable=False)(content_input)\n",
    "# x2 = k.layers.Bidirectional(k.layers.LSTM(params_lstm['lstmContent']))(inp2)\n",
    "# #CudnnLSTM\n",
    "# #x2 = k.layers.Bidirectional(k.layers.CuDNNLSTM(params_lstm['lstmContent']))(inp2)\n",
    "\n",
    "# #Merge\n",
    "# x = k.layers.concatenate([x, x2])\n",
    "\n",
    "\n",
    "#Common part\n",
    "x = k.layers.Dense(params_lstm['dense1'], activation='relu')(x)\n",
    "x = k.layers.Dropout(params_lstm['dropout'])(x)\n",
    "x = k.layers.Dense(params_lstm['dense2'], activation='relu')(x)\n",
    "x = k.layers.Dropout(0.2)(x)\n",
    "\n",
    "out = k.layers.Dense(2, activation='sigmoid')(x)\n",
    "\n",
    "#Build model\n",
    "model = k.models.Model(inputs=[input], outputs=[out])\n",
    "\n",
    "model.compile(k.optimizers.SGD(lr=params_lstm['lr'], \n",
    "                              momentum=params_lstm['momentum']), \n",
    "                              loss='categorical_crossentropy', metrics=['acc'])\n",
    "\n",
    "# model.compile(tf.train.MomentumOptimizer(learning_rate=params_lstm['lr'], \n",
    "#                                          momentum=params_lstm['momentum']), \n",
    "#                                          loss='binary_crossentropy', metrics=['acc'])\n",
    "\n",
    "model.summary()"
   ]
  },
  {
   "cell_type": "code",
   "execution_count": 22,
   "metadata": {
    "colab": {
     "base_uri": "https://localhost:8080/",
     "height": 158
    },
    "colab_type": "code",
    "executionInfo": {
     "elapsed": 1248501,
     "status": "ok",
     "timestamp": 1578397009304,
     "user": {
      "displayName": "nikhitha goli 20186105",
      "photoUrl": "",
      "userId": "01481564974937386714"
     },
     "user_tz": -330
    },
    "id": "5eTdRo5qtQ07",
    "outputId": "5535375a-1098-482b-cccb-d638b259bc5a"
   },
   "outputs": [
    {
     "name": "stdout",
     "output_type": "stream",
     "text": [
      "Train on 16640 samples, validate on 10400 samples\n",
      "Epoch 1/3\n",
      "16640/16640 [==============================] - 2059s 124ms/sample - loss: 0.3587 - acc: 0.8390 - val_loss: 0.3627 - val_acc: 0.8488\n",
      "Epoch 2/3\n",
      "16640/16640 [==============================] - 2413s 145ms/sample - loss: 0.2520 - acc: 0.8988 - val_loss: 0.1877 - val_acc: 0.9267\n",
      "Epoch 3/3\n",
      "16640/16640 [==============================] - 2422s 146ms/sample - loss: 0.1977 - acc: 0.9264 - val_loss: 0.1666 - val_acc: 0.9349\n"
     ]
    }
   ],
   "source": [
    " history = model.fit(x_train, y_train, validation_data=(x_val, y_val), epochs=3, batch_size=128)"
   ]
  },
  {
   "cell_type": "code",
   "execution_count": 24,
   "metadata": {
    "colab": {},
    "colab_type": "code",
    "id": "BUsobyj1y5r1"
   },
   "outputs": [
    {
     "name": "stdout",
     "output_type": "stream",
     "text": [
      "dict_keys(['loss', 'acc', 'val_loss', 'val_acc'])\n"
     ]
    },
    {
     "data": {
      "image/png": "[encoded data removed]",
      "text/plain": [
       "<Figure size 432x288 with 1 Axes>"
      ]
     },
     "metadata": {
      "needs_background": "light"
     },
     "output_type": "display_data"
    },
    {
     "data": {
      "image/png": "[encoded data removed]",
      "text/plain": [
       "<Figure size 432x288 with 1 Axes>"
      ]
     },
     "metadata": {
      "needs_background": "light"
     },
     "output_type": "display_data"
    }
   ],
   "source": [
    "import matplotlib.pyplot as plt\n",
    "%matplotlib inline \n",
    "# list all data in history\n",
    "print(history.history.keys())\n",
    "# summarize history for accuracy\n",
    "plt.plot(history.history['acc'])\n",
    "plt.plot(history.history['val_acc'])\n",
    "plt.title('model accuracy')\n",
    "plt.ylabel('accuracy')\n",
    "plt.xlabel('epoch')\n",
    "plt.legend(['train', 'test'], loc='upper left')\n",
    "plt.show()\n",
    "# summarize history for loss\n",
    "plt.plot(history.history['loss'])\n",
    "plt.plot(history.history['val_loss'])\n",
    "plt.title('model loss')\n",
    "plt.ylabel('loss')\n",
    "plt.xlabel('epoch')\n",
    "plt.legend(['train', 'test'], loc='upper left')\n",
    "plt.show()"
   ]
  },
  {
   "cell_type": "code",
   "execution_count": 26,
   "metadata": {},
   "outputs": [
    {
     "name": "stdout",
     "output_type": "stream",
     "text": [
      "Correct predictions: 9783.0\n",
      "Total number of test examples: 10400\n",
      "Accuracy of model1:  0.9406730769230769\n"
     ]
    },
    {
     "ename": "NameError",
     "evalue": "name 'modell' is not defined",
     "output_type": "error",
     "traceback": [
      "\u001b[1;31m---------------------------------------------------------------------------\u001b[0m",
      "\u001b[1;31mNameError\u001b[0m                                 Traceback (most recent call last)",
      "\u001b[1;32m<ipython-input-26-67be18267775>\u001b[0m in \u001b[0;36m<module>\u001b[1;34m\u001b[0m\n\u001b[0;32m     10\u001b[0m \u001b[1;31m# Creating the Confusion Matrix\u001b[0m\u001b[1;33m\u001b[0m\u001b[1;33m\u001b[0m\u001b[0m\n\u001b[0;32m     11\u001b[0m \u001b[1;32mfrom\u001b[0m \u001b[0msklearn\u001b[0m\u001b[1;33m.\u001b[0m\u001b[0mmetrics\u001b[0m \u001b[1;32mimport\u001b[0m \u001b[0mconfusion_matrix\u001b[0m\u001b[1;33m\u001b[0m\u001b[0m\n\u001b[1;32m---> 12\u001b[1;33m \u001b[0mx_pred\u001b[0m \u001b[1;33m=\u001b[0m \u001b[0mmodell\u001b[0m\u001b[1;33m.\u001b[0m\u001b[0mpredict\u001b[0m\u001b[1;33m(\u001b[0m\u001b[0mx_test\u001b[0m\u001b[1;33m)\u001b[0m\u001b[1;33m\u001b[0m\u001b[0m\n\u001b[0m\u001b[0;32m     13\u001b[0m \u001b[0mx_pred\u001b[0m \u001b[1;33m=\u001b[0m \u001b[0mnp\u001b[0m\u001b[1;33m.\u001b[0m\u001b[0mround\u001b[0m\u001b[1;33m(\u001b[0m\u001b[0mx_pred\u001b[0m\u001b[1;33m)\u001b[0m\u001b[1;33m\u001b[0m\u001b[0m\n\u001b[0;32m     14\u001b[0m \u001b[0mx_pred\u001b[0m \u001b[1;33m=\u001b[0m \u001b[0mx_pred\u001b[0m\u001b[1;33m.\u001b[0m\u001b[0margmax\u001b[0m\u001b[1;33m(\u001b[0m\u001b[1;36m1\u001b[0m\u001b[1;33m)\u001b[0m\u001b[1;33m\u001b[0m\u001b[0m\n",
      "\u001b[1;31mNameError\u001b[0m: name 'modell' is not defined"
     ]
    }
   ],
   "source": [
    "import matplotlib.pyplot as plt\n",
    "import seaborn as sns\n",
    "test_preds = model.predict(x_test)\n",
    "test_preds = np.round(test_preds)\n",
    "correct_predictions = float(sum(test_preds == y_test)[0])\n",
    "print(\"Correct predictions:\", correct_predictions)\n",
    "print(\"Total number of test examples:\", len(y_test))\n",
    "print(\"Accuracy of model1: \", correct_predictions/float(len(y_test)))\n",
    "\n",
    "# Creating the Confusion Matrix\n",
    "from sklearn.metrics import confusion_matrix\n",
    "x_pred = modell.predict(x_test)\n",
    "x_pred = np.round(x_pred)\n",
    "x_pred = x_pred.argmax(1)\n",
    "y_test_s = y_test.argmax(1)\n",
    "cm = confusion_matrix(y_test_s, x_pred)\n",
    "# plt.matshow(cm, cmap=plt.cm.binary, interpolation='nearest')\n",
    "# plt.title('Confusion matrix - model1')\n",
    "# plt.colorbar()\n",
    "# plt.ylabel('expected label')\n",
    "# plt.xlabel('predicted label')\n",
    "# plt.show()\n",
    "sns.set(font_scale=1.4)#for label size\n",
    "sns.heatmap(cm,annot=True,annot_kws={\"size\": 16},fmt='1f')# font size"
   ]
  }
 ],
 "metadata": {
  "colab": {
   "name": "BiLSTM.ipynb",
   "provenance": []
  },
  "kernelspec": {
   "display_name": "Python 3",
   "language": "python",
   "name": "python3"
  },
  "language_info": {
   "codemirror_mode": {
    "name": "ipython",
    "version": 3
   },
   "file_extension": ".py",
   "mimetype": "text/x-python",
   "name": "python",
   "nbconvert_exporter": "python",
   "pygments_lexer": "ipython3",
   "version": "3.7.0"
  }
 },
 "nbformat": 4,
 "nbformat_minor": 1
}
